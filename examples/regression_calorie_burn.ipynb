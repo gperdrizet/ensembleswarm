{
 "cells": [
  {
   "cell_type": "markdown",
   "id": "5e4940df",
   "metadata": {},
   "source": [
    "# EnsembleSwarm calorie burn regression"
   ]
  },
  {
   "cell_type": "code",
   "execution_count": 1,
   "id": "52073aa2",
   "metadata": {},
   "outputs": [
    {
     "name": "stdout",
     "output_type": "stream",
     "text": [
      "/workspaces/ensembleswarm\n"
     ]
    }
   ],
   "source": [
    "import pickle\n",
    "import h5py\n",
    "import glob\n",
    "import numpy as np\n",
    "import pandas as pd\n",
    "from ensembleset.dataset import DataSet\n",
    "from sklearn.metrics import mean_squared_log_error\n",
    "from sklearn.model_selection import train_test_split, cross_val_score\n",
    "from sklearn.ensemble import HistGradientBoostingRegressor\n",
    "\n",
    "%cd ..\n",
    "from ensembleswarm.swarm import Swarm"
   ]
  },
  {
   "cell_type": "markdown",
   "id": "d02324ab",
   "metadata": {},
   "source": [
    "## 1. Load and prepare data"
   ]
  },
  {
   "cell_type": "code",
   "execution_count": 2,
   "id": "94c1234f",
   "metadata": {},
   "outputs": [
    {
     "name": "stdout",
     "output_type": "stream",
     "text": [
      "<class 'pandas.core.frame.DataFrame'>\n",
      "RangeIndex: 750000 entries, 0 to 749999\n",
      "Data columns (total 9 columns):\n",
      " #   Column      Non-Null Count   Dtype  \n",
      "---  ------      --------------   -----  \n",
      " 0   id          750000 non-null  int64  \n",
      " 1   Sex         750000 non-null  object \n",
      " 2   Age         750000 non-null  int64  \n",
      " 3   Height      750000 non-null  float64\n",
      " 4   Weight      750000 non-null  float64\n",
      " 5   Duration    750000 non-null  float64\n",
      " 6   Heart_Rate  750000 non-null  float64\n",
      " 7   Body_Temp   750000 non-null  float64\n",
      " 8   Calories    750000 non-null  float64\n",
      "dtypes: float64(6), int64(2), object(1)\n",
      "memory usage: 51.5+ MB\n"
     ]
    }
   ],
   "source": [
    "data_df=pd.read_csv('examples/example_data/calories.csv')\n",
    "data_df.info()"
   ]
  },
  {
   "cell_type": "code",
   "execution_count": 3,
   "id": "85f75481",
   "metadata": {},
   "outputs": [
    {
     "name": "stdout",
     "output_type": "stream",
     "text": [
      "<class 'pandas.core.frame.DataFrame'>\n",
      "RangeIndex: 375000 entries, 0 to 374999\n",
      "Data columns (total 8 columns):\n",
      " #   Column      Non-Null Count   Dtype  \n",
      "---  ------      --------------   -----  \n",
      " 0   Sex         375000 non-null  object \n",
      " 1   Age         375000 non-null  int64  \n",
      " 2   Height      375000 non-null  float64\n",
      " 3   Weight      375000 non-null  float64\n",
      " 4   Duration    375000 non-null  float64\n",
      " 5   Heart_Rate  375000 non-null  float64\n",
      " 6   Body_Temp   375000 non-null  float64\n",
      " 7   Calories    375000 non-null  float64\n",
      "dtypes: float64(6), int64(1), object(1)\n",
      "memory usage: 22.9+ MB\n"
     ]
    }
   ],
   "source": [
    "data_df.drop('id', axis=1, inplace=True, errors='ignore')\n",
    "train_df, test_df=train_test_split(data_df, test_size=0.5)\n",
    "train_df.reset_index(inplace=True, drop=True)\n",
    "test_df.reset_index(inplace=True, drop=True)\n",
    "train_df.info()"
   ]
  },
  {
   "cell_type": "markdown",
   "id": "26a19a26",
   "metadata": {},
   "source": [
    "## 2. EnsembleSwarm model\n",
    "\n",
    "### 2.1. Generate ensembleset"
   ]
  },
  {
   "cell_type": "code",
   "execution_count": null,
   "id": "a2f5fecf",
   "metadata": {},
   "outputs": [],
   "source": [
    "ensemble_members=3\n",
    "\n",
    "data_ensemble=DataSet(\n",
    "    label='Calories',\n",
    "    train_data=train_df,\n",
    "    test_data=test_df,\n",
    "    string_features=['Sex'],\n",
    "    data_directory='ensembleset_data'\n",
    ")\n",
    "\n",
    "data_ensemble.make_datasets(\n",
    "    n_datasets=ensemble_members,\n",
    "    frac_features=0.7,\n",
    "    n_steps=3\n",
    ")"
   ]
  },
  {
   "cell_type": "markdown",
   "id": "901cde61",
   "metadata": {},
   "source": [
    "### 2.2. Train swarm"
   ]
  },
  {
   "cell_type": "code",
   "execution_count": null,
   "id": "aea8fe67",
   "metadata": {},
   "outputs": [
    {
     "name": "stdout",
     "output_type": "stream",
     "text": [
      "Starting worker 0\n",
      "Training datasets: ['0', '1', '2', 'labels'])\n",
      "Have 3 sets of training features.\n",
      "Optimizing Linear regression, ensemble 0\n",
      "Caught UserWarning while optimizing Linear regression in ensemble 0\n",
      "Optimizing Quantile regression, ensemble 0\r"
     ]
    }
   ],
   "source": [
    "swarm=Swarm(ensembleset = 'ensembleset_data/dataset.h5')\n",
    "swarm.optimize_swarm(sample = 10000)"
   ]
  },
  {
   "cell_type": "markdown",
   "id": "a4b7c84e",
   "metadata": {},
   "source": [
    "### 2.3. Swarm predictions"
   ]
  },
  {
   "cell_type": "code",
   "execution_count": null,
   "id": "6ec2cce3",
   "metadata": {},
   "outputs": [],
   "source": [
    "level_two_dataset={}\n",
    "swarm_rmsle={\n",
    "    'model': [],\n",
    "    'ensemble': [],\n",
    "    'RMSLE': []\n",
    "}\n",
    "\n",
    "with h5py.File('ensembleset_data/dataset.h5', 'r') as hdf:\n",
    "\n",
    "    num_datasets=len(list(hdf['train'].keys())) - 1\n",
    "    print(f\"Testing datasets: {list(hdf['test'].keys())}\")\n",
    "    print(f'Will generate swarm output for {num_datasets} datasets')\n",
    "\n",
    "    for i in range(ensemble_members):\n",
    "        models=glob.glob(f'ensembleswarm_models/swarm/{i}/*.pkl')\n",
    "\n",
    "        for _, model_path in enumerate(models):\n",
    "            model_type = model_path.split('/')[-1]\n",
    "            model_type = model_type.split('.')[0]\n",
    "\n",
    "            with open(model_path, 'rb') as input_file:\n",
    "                model = pickle.load(input_file)\n",
    "\n",
    "            if model is not None and model_type != 'lightgbm':\n",
    "                print(f'Generating test output for ensemble {i}, {model_type}')\n",
    "\n",
    "                predictions = model.predict(hdf[f'test/{i}'][:])\n",
    "                level_two_dataset[f'{i}_{model_type}']=predictions.flatten()\n",
    "\n",
    "                rmsle = np.sqrt(\n",
    "                    mean_squared_log_error(\n",
    "                        hdf['test/labels'][:], \n",
    "                        np.where(predictions >= 0, predictions, 0)\n",
    "                    )\n",
    "                )\n",
    "\n",
    "                swarm_rmsle['ensemble'].append(i)\n",
    "                swarm_rmsle['model'].append(model_type)\n",
    "                swarm_rmsle['RMSLE'].append(rmsle)\n",
    "\n",
    "    level_two_dataset['label'] = np.array(hdf['test/labels'])\n",
    "    level_two_df = pd.DataFrame.from_dict(level_two_dataset)\n",
    "\n",
    "swarm_rmsle_df = pd.DataFrame.from_dict(swarm_rmsle)"
   ]
  },
  {
   "cell_type": "markdown",
   "id": "cb6cb1b6",
   "metadata": {},
   "source": [
    "### 2.4. Swarm RMSLE distribution"
   ]
  },
  {
   "cell_type": "code",
   "execution_count": null,
   "id": "e7b3e112",
   "metadata": {},
   "outputs": [],
   "source": [
    "import matplotlib.pyplot as plt\n",
    "\n",
    "plt.title('Distribution of swarm RMSLE')\n",
    "plt.hist(swarm_rmsle_df['RMSLE'], color='black', bins=30)\n",
    "plt.ylabel('RMSLE')\n",
    "plt.xlabel('Swarm models (n)')\n",
    "plt.show()"
   ]
  },
  {
   "cell_type": "markdown",
   "id": "3830059a",
   "metadata": {},
   "source": [
    "### 2.5. Level II model cross-validation"
   ]
  },
  {
   "cell_type": "code",
   "execution_count": null,
   "id": "acc12770",
   "metadata": {},
   "outputs": [],
   "source": [
    "scores=cross_val_score(\n",
    "    HistGradientBoostingRegressor(loss='gamma'),\n",
    "    level_two_df.drop('label', axis=1),\n",
    "    level_two_df['label'],\n",
    "    scoring='neg_mean_squared_log_error',\n",
    "    n_jobs=-1,\n",
    "    cv=7\n",
    ")\n",
    "\n",
    "print(f'Cross-validation RMSLE: {np.mean(np.sqrt(-scores)):.4f} +/- {np.std(np.sqrt(-scores)):.4f}')"
   ]
  }
 ],
 "metadata": {
  "kernelspec": {
   "display_name": "Python 3",
   "language": "python",
   "name": "python3"
  },
  "language_info": {
   "codemirror_mode": {
    "name": "ipython",
    "version": 3
   },
   "file_extension": ".py",
   "mimetype": "text/x-python",
   "name": "python",
   "nbconvert_exporter": "python",
   "pygments_lexer": "ipython3",
   "version": "3.10.12"
  }
 },
 "nbformat": 4,
 "nbformat_minor": 5
}
