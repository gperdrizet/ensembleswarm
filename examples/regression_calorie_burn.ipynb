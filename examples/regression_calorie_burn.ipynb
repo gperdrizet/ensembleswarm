{
 "cells": [
  {
   "cell_type": "markdown",
   "id": "5e4940df",
   "metadata": {},
   "source": [
    "# EnsembleSwarm calorie burn regression"
   ]
  },
  {
   "cell_type": "code",
   "execution_count": 11,
   "id": "52073aa2",
   "metadata": {},
   "outputs": [
    {
     "name": "stdout",
     "output_type": "stream",
     "text": [
      "/workspaces\n"
     ]
    }
   ],
   "source": [
    "import pickle\n",
    "import h5py\n",
    "import glob\n",
    "import numpy as np\n",
    "import pandas as pd\n",
    "import matplotlib.pyplot as plt\n",
    "from ensembleset.dataset import DataSet\n",
    "from sklearn.metrics import mean_squared_log_error\n",
    "from sklearn.model_selection import train_test_split, cross_val_score\n",
    "from sklearn.ensemble import HistGradientBoostingRegressor\n",
    "\n",
    "%cd ..\n",
    "from ensembleswarm.swarm import Swarm"
   ]
  },
  {
   "cell_type": "markdown",
   "id": "d02324ab",
   "metadata": {},
   "source": [
    "## 1. Load and prepare data"
   ]
  },
  {
   "cell_type": "code",
   "execution_count": 2,
   "id": "94c1234f",
   "metadata": {},
   "outputs": [
    {
     "name": "stdout",
     "output_type": "stream",
     "text": [
      "<class 'pandas.core.frame.DataFrame'>\n",
      "RangeIndex: 750000 entries, 0 to 749999\n",
      "Data columns (total 9 columns):\n",
      " #   Column      Non-Null Count   Dtype  \n",
      "---  ------      --------------   -----  \n",
      " 0   id          750000 non-null  int64  \n",
      " 1   Sex         750000 non-null  object \n",
      " 2   Age         750000 non-null  int64  \n",
      " 3   Height      750000 non-null  float64\n",
      " 4   Weight      750000 non-null  float64\n",
      " 5   Duration    750000 non-null  float64\n",
      " 6   Heart_Rate  750000 non-null  float64\n",
      " 7   Body_Temp   750000 non-null  float64\n",
      " 8   Calories    750000 non-null  float64\n",
      "dtypes: float64(6), int64(2), object(1)\n",
      "memory usage: 51.5+ MB\n"
     ]
    }
   ],
   "source": [
    "data_df=pd.read_csv('examples/example_data/calories.csv')\n",
    "data_df.info()"
   ]
  },
  {
   "cell_type": "code",
   "execution_count": 3,
   "id": "85f75481",
   "metadata": {},
   "outputs": [
    {
     "name": "stdout",
     "output_type": "stream",
     "text": [
      "<class 'pandas.core.frame.DataFrame'>\n",
      "RangeIndex: 375000 entries, 0 to 374999\n",
      "Data columns (total 8 columns):\n",
      " #   Column      Non-Null Count   Dtype  \n",
      "---  ------      --------------   -----  \n",
      " 0   Sex         375000 non-null  object \n",
      " 1   Age         375000 non-null  int64  \n",
      " 2   Height      375000 non-null  float64\n",
      " 3   Weight      375000 non-null  float64\n",
      " 4   Duration    375000 non-null  float64\n",
      " 5   Heart_Rate  375000 non-null  float64\n",
      " 6   Body_Temp   375000 non-null  float64\n",
      " 7   Calories    375000 non-null  float64\n",
      "dtypes: float64(6), int64(1), object(1)\n",
      "memory usage: 22.9+ MB\n"
     ]
    }
   ],
   "source": [
    "data_df.drop('id', axis=1, inplace=True, errors='ignore')\n",
    "train_df, test_df=train_test_split(data_df, test_size=0.5)\n",
    "train_df.reset_index(inplace=True, drop=True)\n",
    "test_df.reset_index(inplace=True, drop=True)\n",
    "train_df.info()"
   ]
  },
  {
   "cell_type": "markdown",
   "id": "26a19a26",
   "metadata": {},
   "source": [
    "## 2. EnsembleSwarm model\n",
    "\n",
    "### 2.1. Generate ensembleset"
   ]
  },
  {
   "cell_type": "code",
   "execution_count": 4,
   "id": "a2f5fecf",
   "metadata": {},
   "outputs": [],
   "source": [
    "ensemble_members=100\n",
    "\n",
    "# data_ensemble=DataSet(\n",
    "#     label='Calories',\n",
    "#     train_data=train_df,\n",
    "#     test_data=test_df,\n",
    "#     string_features=['Sex'],\n",
    "#     data_directory='ensembleset_data'\n",
    "# )\n",
    "\n",
    "# data_ensemble.make_datasets(\n",
    "#     n_datasets=ensemble_members,\n",
    "#     frac_features=0.7,\n",
    "#     n_steps=3\n",
    "# )"
   ]
  },
  {
   "cell_type": "markdown",
   "id": "901cde61",
   "metadata": {},
   "source": [
    "### 2.2. Train swarm"
   ]
  },
  {
   "cell_type": "code",
   "execution_count": 6,
   "id": "aea8fe67",
   "metadata": {},
   "outputs": [
    {
     "name": "stdout",
     "output_type": "stream",
     "text": [
      "CPU times: user 3 μs, sys: 0 ns, total: 3 μs\n",
      "Wall time: 7.15 μs\n"
     ]
    }
   ],
   "source": [
    "%%time\n",
    "\n",
    "# swarm=Swarm(ensembleset = 'ensembleset_data/ensembleset.h5')\n",
    "# swarm.optimize_swarm(sample = 10000)"
   ]
  },
  {
   "cell_type": "markdown",
   "id": "a4b7c84e",
   "metadata": {},
   "source": [
    "### 2.3. Swarm predictions"
   ]
  },
  {
   "cell_type": "code",
   "execution_count": 10,
   "id": "6ec2cce3",
   "metadata": {},
   "outputs": [
    {
     "name": "stdout",
     "output_type": "stream",
     "text": [
      "Testing datasets: ['0', '1', '10', '11', '12', '13', '14', '15', '16', '17', '18', '19', '2', '20', '21', '22', '23', '24', '25', '26', '27', '28', '29', '3', '30', '31', '32', '33', '34', '35', '36', '37', '38', '39', '4', '40', '41', '42', '43', '44', '45', '46', '47', '48', '49', '5', '50', '51', '52', '53', '54', '55', '56', '57', '58', '59', '6', '60', '61', '62', '63', '64', '65', '66', '67', '68', '69', '7', '70', '71', '72', '73', '74', '75', '76', '77', '78', '79', '8', '80', '81', '82', '83', '84', '85', '86', '87', '88', '89', '9', '90', '91', '92', '93', '94', '95', '96', '97', '98', '99', 'labels']\n",
      "Will generate swarm output for 100 datasets\n",
      "Generating test output for ensemble 0, linear_regression\n",
      "Generating test output for ensemble 0, linear_svm\n",
      "Generating test output for ensemble 0, decision_tree\n",
      "Generating test output for ensemble 0, nearest_neighbors\n",
      "Generating test output for ensemble 0, sgd\n",
      "Generating test output for ensemble 0, rbf_svm\n",
      "Generating test output for ensemble 0, quantile_regression\n",
      "Generating test output for ensemble 0, polynomial_svm\n",
      "Generating test output for ensemble 0, xgboost\n",
      "Generating test output for ensemble 0, lightgbm\n",
      "Generating test output for ensemble 0, random_forest\n",
      "Generating test output for ensemble 0, catboost\n",
      "Generating test output for ensemble 0, adaboost\n",
      "Generating test output for ensemble 1, linear_regression\n",
      "Generating test output for ensemble 1, linear_svm\n",
      "Generating test output for ensemble 1, nearest_neighbors\n",
      "Generating test output for ensemble 1, polynomial_svm\n",
      "Generating test output for ensemble 1, rbf_svm\n",
      "Generating test output for ensemble 1, decision_tree\n",
      "Generating test output for ensemble 1, quantile_regression\n",
      "Generating test output for ensemble 1, sgd\n",
      "Generating test output for ensemble 1, lightgbm\n",
      "Generating test output for ensemble 1, xgboost\n",
      "Generating test output for ensemble 1, random_forest\n",
      "Generating test output for ensemble 1, adaboost\n",
      "Generating test output for ensemble 1, catboost\n",
      "Generating test output for ensemble 2, linear_regression\n",
      "Generating test output for ensemble 2, nearest_neighbors\n",
      "Generating test output for ensemble 2, linear_svm\n",
      "Generating test output for ensemble 2, quantile_regression\n",
      "Generating test output for ensemble 2, decision_tree\n",
      "Generating test output for ensemble 2, rbf_svm\n",
      "Generating test output for ensemble 2, polynomial_svm\n",
      "Generating test output for ensemble 2, sgd\n",
      "Generating test output for ensemble 2, xgboost\n",
      "Generating test output for ensemble 2, random_forest\n",
      "Generating test output for ensemble 2, lightgbm\n",
      "Generating test output for ensemble 2, adaboost\n",
      "Generating test output for ensemble 3, linear_regression\n",
      "Generating test output for ensemble 3, quantile_regression\n",
      "Generating test output for ensemble 3, nearest_neighbors\n",
      "Generating test output for ensemble 3, linear_svm\n",
      "Generating test output for ensemble 3, rbf_svm\n",
      "Generating test output for ensemble 3, polynomial_svm\n",
      "Generating test output for ensemble 3, decision_tree\n",
      "Generating test output for ensemble 3, random_forest\n",
      "Generating test output for ensemble 3, sgd\n",
      "Generating test output for ensemble 3, xgboost\n",
      "Generating test output for ensemble 3, lightgbm\n"
     ]
    }
   ],
   "source": [
    "level_two_dataset={}\n",
    "swarm_rmsle={\n",
    "    'model': [],\n",
    "    'ensemble': [],\n",
    "    'RMSLE': []\n",
    "}\n",
    "\n",
    "with h5py.File('ensembleset_data/ensembleset.h5', 'r') as hdf:\n",
    "\n",
    "    num_datasets=len(list(hdf['train'].keys())) - 1\n",
    "    print(f\"Testing datasets: {list(hdf['test'].keys())}\")\n",
    "    print(f'Will generate swarm output for {num_datasets} datasets')\n",
    "\n",
    "    for i in range(4):\n",
    "        models=glob.glob(f'ensembleswarm_models/swarm/{i}/*.pkl')\n",
    "\n",
    "        for _, model_path in enumerate(models):\n",
    "            model_type = model_path.split('/')[-1]\n",
    "            model_type = model_type.split('.')[0]\n",
    "\n",
    "            with open(model_path, 'rb') as input_file:\n",
    "                model = pickle.load(input_file)\n",
    "\n",
    "            if model is not None and isinstance(model, dict) == False:\n",
    "                print(f'Generating test output for ensemble {i}, {model_type}')\n",
    "\n",
    "                predictions = model.predict(hdf[f'test/{i}'][:])\n",
    "                level_two_dataset[f'{i}_{model_type}']=predictions.flatten()\n",
    "\n",
    "                rmsle = np.sqrt(\n",
    "                    mean_squared_log_error(\n",
    "                        hdf['test/labels'][:], \n",
    "                        np.where(predictions >= 0, predictions, 0)\n",
    "                    )\n",
    "                )\n",
    "\n",
    "                swarm_rmsle['ensemble'].append(i)\n",
    "                swarm_rmsle['model'].append(model_type)\n",
    "                swarm_rmsle['RMSLE'].append(rmsle)\n",
    "\n",
    "    level_two_dataset['label'] = np.array(hdf['test/labels'])\n",
    "    level_two_df = pd.DataFrame.from_dict(level_two_dataset)\n",
    "\n",
    "swarm_rmsle_df = pd.DataFrame.from_dict(swarm_rmsle)"
   ]
  },
  {
   "cell_type": "markdown",
   "id": "cb6cb1b6",
   "metadata": {},
   "source": [
    "### 2.4. Swarm RMSLE distribution"
   ]
  },
  {
   "cell_type": "code",
   "execution_count": null,
   "id": "e7b3e112",
   "metadata": {},
   "outputs": [
    {
     "data": {
      "image/png": "[encoded data removed]",
      "text/plain": [
       "<Figure size 640x480 with 1 Axes>"
      ]
     },
     "metadata": {},
     "output_type": "display_data"
    }
   ],
   "source": [
    "plt.title('Distribution of swarm RMSLE')\n",
    "plt.hist(swarm_rmsle_df['RMSLE'], color='black', bins=30)\n",
    "plt.xlabel('RMSLE')\n",
    "plt.ylabel('Swarm models (n)')\n",
    "plt.show()"
   ]
  },
  {
   "cell_type": "markdown",
   "id": "bc4eaa57",
   "metadata": {},
   "source": [
    "### 2.5. Individual model scores"
   ]
  },
  {
   "cell_type": "markdown",
   "id": "3830059a",
   "metadata": {},
   "source": [
    "### 2.5. Level II model cross-validation"
   ]
  },
  {
   "cell_type": "code",
   "execution_count": 14,
   "id": "acc12770",
   "metadata": {},
   "outputs": [
    {
     "name": "stdout",
     "output_type": "stream",
     "text": [
      "Cross-validation RMSLE: 0.0630 +/- 0.0010\n"
     ]
    }
   ],
   "source": [
    "scores=cross_val_score(\n",
    "    HistGradientBoostingRegressor(loss='gamma'),\n",
    "    level_two_df.drop('label', axis=1),\n",
    "    level_two_df['label'],\n",
    "    scoring='neg_mean_squared_log_error',\n",
    "    n_jobs=-1,\n",
    "    cv=7\n",
    ")\n",
    "\n",
    "print(f'Cross-validation RMSLE: {np.mean(np.sqrt(-scores)):.4f} +/- {np.std(np.sqrt(-scores)):.4f}')"
   ]
  }
 ],
 "metadata": {
  "kernelspec": {
   "display_name": "Python 3",
   "language": "python",
   "name": "python3"
  },
  "language_info": {
   "codemirror_mode": {
    "name": "ipython",
    "version": 3
   },
   "file_extension": ".py",
   "mimetype": "text/x-python",
   "name": "python",
   "nbconvert_exporter": "python",
   "pygments_lexer": "ipython3",
   "version": "3.10.12"
  }
 },
 "nbformat": 4,
 "nbformat_minor": 5
}
