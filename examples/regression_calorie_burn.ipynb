{
 "cells": [
  {
   "cell_type": "markdown",
   "id": "5e4940df",
   "metadata": {},
   "source": [
    "# EnsembleSwarm calorie burn regression"
   ]
  },
  {
   "cell_type": "code",
   "execution_count": 1,
   "id": "52073aa2",
   "metadata": {},
   "outputs": [
    {
     "name": "stdout",
     "output_type": "stream",
     "text": [
      "/mnt/arkk/ensembleswarm\n"
     ]
    }
   ],
   "source": [
    "import pickle\n",
    "import h5py\n",
    "import glob\n",
    "import numpy as np\n",
    "import pandas as pd\n",
    "from ensembleset.dataset import DataSet\n",
    "from sklearn.metrics import mean_squared_log_error\n",
    "from sklearn.model_selection import train_test_split, cross_val_score\n",
    "from sklearn.ensemble import HistGradientBoostingRegressor\n",
    "\n",
    "%cd ..\n",
    "from ensembleswarm.swarm import Swarm"
   ]
  },
  {
   "cell_type": "markdown",
   "id": "d02324ab",
   "metadata": {},
   "source": [
    "## 1. Load and prepare data"
   ]
  },
  {
   "cell_type": "code",
   "execution_count": 2,
   "id": "94c1234f",
   "metadata": {},
   "outputs": [
    {
     "name": "stdout",
     "output_type": "stream",
     "text": [
      "<class 'pandas.core.frame.DataFrame'>\n",
      "RangeIndex: 750000 entries, 0 to 749999\n",
      "Data columns (total 9 columns):\n",
      " #   Column      Non-Null Count   Dtype  \n",
      "---  ------      --------------   -----  \n",
      " 0   id          750000 non-null  int64  \n",
      " 1   Sex         750000 non-null  object \n",
      " 2   Age         750000 non-null  int64  \n",
      " 3   Height      750000 non-null  float64\n",
      " 4   Weight      750000 non-null  float64\n",
      " 5   Duration    750000 non-null  float64\n",
      " 6   Heart_Rate  750000 non-null  float64\n",
      " 7   Body_Temp   750000 non-null  float64\n",
      " 8   Calories    750000 non-null  float64\n",
      "dtypes: float64(6), int64(2), object(1)\n",
      "memory usage: 51.5+ MB\n"
     ]
    }
   ],
   "source": [
    "data_df=pd.read_csv('examples/example_data/calories.csv')\n",
    "data_df.info()"
   ]
  },
  {
   "cell_type": "code",
   "execution_count": 3,
   "id": "85f75481",
   "metadata": {},
   "outputs": [
    {
     "name": "stdout",
     "output_type": "stream",
     "text": [
      "<class 'pandas.core.frame.DataFrame'>\n",
      "RangeIndex: 375000 entries, 0 to 374999\n",
      "Data columns (total 8 columns):\n",
      " #   Column      Non-Null Count   Dtype  \n",
      "---  ------      --------------   -----  \n",
      " 0   Sex         375000 non-null  object \n",
      " 1   Age         375000 non-null  int64  \n",
      " 2   Height      375000 non-null  float64\n",
      " 3   Weight      375000 non-null  float64\n",
      " 4   Duration    375000 non-null  float64\n",
      " 5   Heart_Rate  375000 non-null  float64\n",
      " 6   Body_Temp   375000 non-null  float64\n",
      " 7   Calories    375000 non-null  float64\n",
      "dtypes: float64(6), int64(1), object(1)\n",
      "memory usage: 22.9+ MB\n"
     ]
    }
   ],
   "source": [
    "data_df.drop('id', axis=1, inplace=True, errors='ignore')\n",
    "\n",
    "train_df, test_df=train_test_split(data_df, test_size=0.5)\n",
    "\n",
    "train_df.reset_index(inplace=True, drop=True)\n",
    "test_df.reset_index(inplace=True, drop=True)\n",
    "\n",
    "train_df.info()"
   ]
  },
  {
   "cell_type": "markdown",
   "id": "26a19a26",
   "metadata": {},
   "source": [
    "## 2. EnsembleSwarm model\n",
    "\n",
    "### 2.1. Generate ensembleset"
   ]
  },
  {
   "cell_type": "code",
   "execution_count": 4,
   "id": "a2f5fecf",
   "metadata": {},
   "outputs": [
    {
     "ename": "ValueError",
     "evalue": "Shape of passed values is (375000, 13), indices imply (375000, 16)",
     "output_type": "error",
     "traceback": [
      "\u001b[0;31m---------------------------------------------------------------------------\u001b[0m",
      "\u001b[0;31mValueError\u001b[0m                                Traceback (most recent call last)",
      "Cell \u001b[0;32mIn[4], line 11\u001b[0m\n\u001b[1;32m      1\u001b[0m ensemble_members\u001b[38;5;241m=\u001b[39m\u001b[38;5;241m95\u001b[39m\n\u001b[1;32m      3\u001b[0m data_ensemble\u001b[38;5;241m=\u001b[39mDataSet(\n\u001b[1;32m      4\u001b[0m     label\u001b[38;5;241m=\u001b[39m\u001b[38;5;124m'\u001b[39m\u001b[38;5;124mCalories\u001b[39m\u001b[38;5;124m'\u001b[39m,\n\u001b[1;32m      5\u001b[0m     train_data\u001b[38;5;241m=\u001b[39mtrain_df,\n\u001b[0;32m   (...)\u001b[0m\n\u001b[1;32m      8\u001b[0m     data_directory\u001b[38;5;241m=\u001b[39m\u001b[38;5;124m'\u001b[39m\u001b[38;5;124mensembleset_data\u001b[39m\u001b[38;5;124m'\u001b[39m\n\u001b[1;32m      9\u001b[0m )\n\u001b[0;32m---> 11\u001b[0m \u001b[43mdata_ensemble\u001b[49m\u001b[38;5;241;43m.\u001b[39;49m\u001b[43mmake_datasets\u001b[49m\u001b[43m(\u001b[49m\n\u001b[1;32m     12\u001b[0m \u001b[43m    \u001b[49m\u001b[43mn_datasets\u001b[49m\u001b[38;5;241;43m=\u001b[39;49m\u001b[43mensemble_members\u001b[49m\u001b[43m,\u001b[49m\n\u001b[1;32m     13\u001b[0m \u001b[43m    \u001b[49m\u001b[43mfrac_features\u001b[49m\u001b[38;5;241;43m=\u001b[39;49m\u001b[38;5;241;43m0.7\u001b[39;49m\u001b[43m,\u001b[49m\n\u001b[1;32m     14\u001b[0m \u001b[43m    \u001b[49m\u001b[43mn_steps\u001b[49m\u001b[38;5;241;43m=\u001b[39;49m\u001b[38;5;241;43m3\u001b[39;49m\n\u001b[1;32m     15\u001b[0m \u001b[43m)\u001b[49m\n",
      "File \u001b[0;32m/mnt/arkk/ensembleswarm/.venv/lib/python3.10/site-packages/ensembleset/dataset.py:174\u001b[0m, in \u001b[0;36mDataSet.make_datasets\u001b[0;34m(self, n_datasets, frac_features, n_steps)\u001b[0m\n\u001b[1;32m    170\u001b[0m features \u001b[38;5;241m=\u001b[39m \u001b[38;5;28mself\u001b[39m\u001b[38;5;241m.\u001b[39m_select_features(n_features, train_df)\n\u001b[1;32m    172\u001b[0m logger\u001b[38;5;241m.\u001b[39minfo(\u001b[38;5;124m'\u001b[39m\u001b[38;5;124mApplying \u001b[39m\u001b[38;5;132;01m%s\u001b[39;00m\u001b[38;5;124m to \u001b[39m\u001b[38;5;132;01m%s\u001b[39;00m\u001b[38;5;124m features\u001b[39m\u001b[38;5;124m'\u001b[39m , method, \u001b[38;5;28mlen\u001b[39m(features))\n\u001b[0;32m--> 174\u001b[0m train_df, test_df \u001b[38;5;241m=\u001b[39m \u001b[43mfunc\u001b[49m\u001b[43m(\u001b[49m\n\u001b[1;32m    175\u001b[0m \u001b[43m    \u001b[49m\u001b[43mtrain_df\u001b[49m\u001b[43m,\u001b[49m\n\u001b[1;32m    176\u001b[0m \u001b[43m    \u001b[49m\u001b[43mtest_df\u001b[49m\u001b[43m,\u001b[49m\n\u001b[1;32m    177\u001b[0m \u001b[43m    \u001b[49m\u001b[43mfeatures\u001b[49m\u001b[43m,\u001b[49m\n\u001b[1;32m    178\u001b[0m \u001b[43m    \u001b[49m\u001b[43marguments\u001b[49m\n\u001b[1;32m    179\u001b[0m \u001b[43m\u001b[49m\u001b[43m)\u001b[49m\n\u001b[1;32m    181\u001b[0m logger\u001b[38;5;241m.\u001b[39minfo(\u001b[38;5;124m'\u001b[39m\u001b[38;5;124mNew training data shape: \u001b[39m\u001b[38;5;132;01m%s\u001b[39;00m\u001b[38;5;124m'\u001b[39m, train_df\u001b[38;5;241m.\u001b[39mshape)\n\u001b[1;32m    183\u001b[0m \u001b[38;5;28;01mif\u001b[39;00m test_df \u001b[38;5;129;01mis\u001b[39;00m \u001b[38;5;129;01mnot\u001b[39;00m \u001b[38;5;28;01mNone\u001b[39;00m:\n",
      "File \u001b[0;32m/mnt/arkk/ensembleswarm/.venv/lib/python3.10/site-packages/ensembleset/feature_methods.py:377\u001b[0m, in \u001b[0;36mlog_features\u001b[0;34m(train_df, test_df, features, kwargs)\u001b[0m\n\u001b[1;32m    371\u001b[0m new_train_features_df \u001b[38;5;241m=\u001b[39m pd\u001b[38;5;241m.\u001b[39mDataFrame(\n\u001b[1;32m    372\u001b[0m     np\u001b[38;5;241m.\u001b[39marray(new_train_features)\u001b[38;5;241m.\u001b[39mT,\n\u001b[1;32m    373\u001b[0m     columns\u001b[38;5;241m=\u001b[39mnew_train_feature_names\n\u001b[1;32m    374\u001b[0m )\n\u001b[1;32m    376\u001b[0m \u001b[38;5;28;01mif\u001b[39;00m test_df \u001b[38;5;129;01mis\u001b[39;00m \u001b[38;5;129;01mnot\u001b[39;00m \u001b[38;5;28;01mNone\u001b[39;00m:\n\u001b[0;32m--> 377\u001b[0m     new_test_features_df \u001b[38;5;241m=\u001b[39m \u001b[43mpd\u001b[49m\u001b[38;5;241;43m.\u001b[39;49m\u001b[43mDataFrame\u001b[49m\u001b[43m(\u001b[49m\n\u001b[1;32m    378\u001b[0m \u001b[43m        \u001b[49m\u001b[43mnp\u001b[49m\u001b[38;5;241;43m.\u001b[39;49m\u001b[43marray\u001b[49m\u001b[43m(\u001b[49m\u001b[43mnew_test_features\u001b[49m\u001b[43m)\u001b[49m\u001b[38;5;241;43m.\u001b[39;49m\u001b[43mT\u001b[49m\u001b[43m,\u001b[49m\n\u001b[1;32m    379\u001b[0m \u001b[43m        \u001b[49m\u001b[43mcolumns\u001b[49m\u001b[38;5;241;43m=\u001b[39;49m\u001b[43mnew_test_feature_names\u001b[49m\n\u001b[1;32m    380\u001b[0m \u001b[43m    \u001b[49m\u001b[43m)\u001b[49m\n\u001b[1;32m    382\u001b[0m \u001b[38;5;28;01melse\u001b[39;00m:\n\u001b[1;32m    383\u001b[0m     new_test_features_df \u001b[38;5;241m=\u001b[39m \u001b[38;5;28;01mNone\u001b[39;00m\n",
      "File \u001b[0;32m/mnt/arkk/ensembleswarm/.venv/lib/python3.10/site-packages/pandas/core/frame.py:827\u001b[0m, in \u001b[0;36mDataFrame.__init__\u001b[0;34m(self, data, index, columns, dtype, copy)\u001b[0m\n\u001b[1;32m    816\u001b[0m         mgr \u001b[38;5;241m=\u001b[39m dict_to_mgr(\n\u001b[1;32m    817\u001b[0m             \u001b[38;5;66;03m# error: Item \"ndarray\" of \"Union[ndarray, Series, Index]\" has no\u001b[39;00m\n\u001b[1;32m    818\u001b[0m             \u001b[38;5;66;03m# attribute \"name\"\u001b[39;00m\n\u001b[0;32m   (...)\u001b[0m\n\u001b[1;32m    824\u001b[0m             copy\u001b[38;5;241m=\u001b[39m_copy,\n\u001b[1;32m    825\u001b[0m         )\n\u001b[1;32m    826\u001b[0m     \u001b[38;5;28;01melse\u001b[39;00m:\n\u001b[0;32m--> 827\u001b[0m         mgr \u001b[38;5;241m=\u001b[39m \u001b[43mndarray_to_mgr\u001b[49m\u001b[43m(\u001b[49m\n\u001b[1;32m    828\u001b[0m \u001b[43m            \u001b[49m\u001b[43mdata\u001b[49m\u001b[43m,\u001b[49m\n\u001b[1;32m    829\u001b[0m \u001b[43m            \u001b[49m\u001b[43mindex\u001b[49m\u001b[43m,\u001b[49m\n\u001b[1;32m    830\u001b[0m \u001b[43m            \u001b[49m\u001b[43mcolumns\u001b[49m\u001b[43m,\u001b[49m\n\u001b[1;32m    831\u001b[0m \u001b[43m            \u001b[49m\u001b[43mdtype\u001b[49m\u001b[38;5;241;43m=\u001b[39;49m\u001b[43mdtype\u001b[49m\u001b[43m,\u001b[49m\n\u001b[1;32m    832\u001b[0m \u001b[43m            \u001b[49m\u001b[43mcopy\u001b[49m\u001b[38;5;241;43m=\u001b[39;49m\u001b[43mcopy\u001b[49m\u001b[43m,\u001b[49m\n\u001b[1;32m    833\u001b[0m \u001b[43m            \u001b[49m\u001b[43mtyp\u001b[49m\u001b[38;5;241;43m=\u001b[39;49m\u001b[43mmanager\u001b[49m\u001b[43m,\u001b[49m\n\u001b[1;32m    834\u001b[0m \u001b[43m        \u001b[49m\u001b[43m)\u001b[49m\n\u001b[1;32m    836\u001b[0m \u001b[38;5;66;03m# For data is list-like, or Iterable (will consume into list)\u001b[39;00m\n\u001b[1;32m    837\u001b[0m \u001b[38;5;28;01melif\u001b[39;00m is_list_like(data):\n",
      "File \u001b[0;32m/mnt/arkk/ensembleswarm/.venv/lib/python3.10/site-packages/pandas/core/internals/construction.py:336\u001b[0m, in \u001b[0;36mndarray_to_mgr\u001b[0;34m(values, index, columns, dtype, copy, typ)\u001b[0m\n\u001b[1;32m    331\u001b[0m \u001b[38;5;66;03m# _prep_ndarraylike ensures that values.ndim == 2 at this point\u001b[39;00m\n\u001b[1;32m    332\u001b[0m index, columns \u001b[38;5;241m=\u001b[39m _get_axes(\n\u001b[1;32m    333\u001b[0m     values\u001b[38;5;241m.\u001b[39mshape[\u001b[38;5;241m0\u001b[39m], values\u001b[38;5;241m.\u001b[39mshape[\u001b[38;5;241m1\u001b[39m], index\u001b[38;5;241m=\u001b[39mindex, columns\u001b[38;5;241m=\u001b[39mcolumns\n\u001b[1;32m    334\u001b[0m )\n\u001b[0;32m--> 336\u001b[0m \u001b[43m_check_values_indices_shape_match\u001b[49m\u001b[43m(\u001b[49m\u001b[43mvalues\u001b[49m\u001b[43m,\u001b[49m\u001b[43m \u001b[49m\u001b[43mindex\u001b[49m\u001b[43m,\u001b[49m\u001b[43m \u001b[49m\u001b[43mcolumns\u001b[49m\u001b[43m)\u001b[49m\n\u001b[1;32m    338\u001b[0m \u001b[38;5;28;01mif\u001b[39;00m typ \u001b[38;5;241m==\u001b[39m \u001b[38;5;124m\"\u001b[39m\u001b[38;5;124marray\u001b[39m\u001b[38;5;124m\"\u001b[39m:\n\u001b[1;32m    339\u001b[0m     \u001b[38;5;28;01mif\u001b[39;00m \u001b[38;5;28missubclass\u001b[39m(values\u001b[38;5;241m.\u001b[39mdtype\u001b[38;5;241m.\u001b[39mtype, \u001b[38;5;28mstr\u001b[39m):\n",
      "File \u001b[0;32m/mnt/arkk/ensembleswarm/.venv/lib/python3.10/site-packages/pandas/core/internals/construction.py:420\u001b[0m, in \u001b[0;36m_check_values_indices_shape_match\u001b[0;34m(values, index, columns)\u001b[0m\n\u001b[1;32m    418\u001b[0m passed \u001b[38;5;241m=\u001b[39m values\u001b[38;5;241m.\u001b[39mshape\n\u001b[1;32m    419\u001b[0m implied \u001b[38;5;241m=\u001b[39m (\u001b[38;5;28mlen\u001b[39m(index), \u001b[38;5;28mlen\u001b[39m(columns))\n\u001b[0;32m--> 420\u001b[0m \u001b[38;5;28;01mraise\u001b[39;00m \u001b[38;5;167;01mValueError\u001b[39;00m(\u001b[38;5;124mf\u001b[39m\u001b[38;5;124m\"\u001b[39m\u001b[38;5;124mShape of passed values is \u001b[39m\u001b[38;5;132;01m{\u001b[39;00mpassed\u001b[38;5;132;01m}\u001b[39;00m\u001b[38;5;124m, indices imply \u001b[39m\u001b[38;5;132;01m{\u001b[39;00mimplied\u001b[38;5;132;01m}\u001b[39;00m\u001b[38;5;124m\"\u001b[39m)\n",
      "\u001b[0;31mValueError\u001b[0m: Shape of passed values is (375000, 13), indices imply (375000, 16)"
     ]
    }
   ],
   "source": [
    "ensemble_members=95\n",
    "\n",
    "data_ensemble=DataSet(\n",
    "    label='Calories',\n",
    "    train_data=train_df,\n",
    "    test_data=test_df,\n",
    "    string_features=['Sex'],\n",
    "    data_directory='ensembleset_data'\n",
    ")\n",
    "\n",
    "data_ensemble.make_datasets(\n",
    "    n_datasets=ensemble_members,\n",
    "    frac_features=0.7,\n",
    "    n_steps=3\n",
    ")"
   ]
  },
  {
   "cell_type": "markdown",
   "id": "901cde61",
   "metadata": {},
   "source": [
    "### 2.2. Train swarm"
   ]
  },
  {
   "cell_type": "code",
   "execution_count": null,
   "id": "aea8fe67",
   "metadata": {},
   "outputs": [],
   "source": [
    "swarm=Swarm(ensembleset = 'ensembleset_data/dataset.h5')\n",
    "swarm.train_swarm(sample = 10000)"
   ]
  },
  {
   "cell_type": "markdown",
   "id": "a4b7c84e",
   "metadata": {},
   "source": [
    "### 2.3. Swarm predictions"
   ]
  },
  {
   "cell_type": "code",
   "execution_count": null,
   "id": "6ec2cce3",
   "metadata": {},
   "outputs": [],
   "source": [
    "level_two_dataset={}\n",
    "swarm_rmsle={\n",
    "    'model': [],\n",
    "    'ensemble': [],\n",
    "    'RMSLE': []\n",
    "}\n",
    "\n",
    "with h5py.File('ensembleset_data/dataset.h5', 'r') as hdf:\n",
    "\n",
    "    num_datasets=len(list(hdf['train'].keys())) - 1\n",
    "    print(f\"Testing datasets: {list(hdf['test'].keys())}\")\n",
    "    print(f'Will generate swarm output for {num_datasets} datasets')\n",
    "\n",
    "    for i in range(ensemble_members):\n",
    "        models=glob.glob(f'ensembleswarm_models/swarm/{i}/*.pkl')\n",
    "\n",
    "        for _, model_path in enumerate(models):\n",
    "            model_type = model_path.split('/')[-1]\n",
    "            model_type = model_type.split('.')[0]\n",
    "\n",
    "            with open(model_path, 'rb') as input_file:\n",
    "                model = pickle.load(input_file)\n",
    "\n",
    "            if model is not None and model_type != 'lightgbm':\n",
    "                print(f'Generating test output for ensemble {i}, {model_type}')\n",
    "\n",
    "                predictions = model.predict(hdf[f'test/{i}'][:])\n",
    "                level_two_dataset[f'{i}_{model_type}']=predictions.flatten()\n",
    "\n",
    "                rmsle = np.sqrt(\n",
    "                    mean_squared_log_error(\n",
    "                        hdf['test/labels'][:], \n",
    "                        np.where(predictions >= 0, predictions, 0)\n",
    "                    )\n",
    "                )\n",
    "\n",
    "                swarm_rmsle['ensemble'].append(i)\n",
    "                swarm_rmsle['model'].append(model_type)\n",
    "                swarm_rmsle['RMSLE'].append(rmsle)\n",
    "\n",
    "    level_two_dataset['label'] = np.array(hdf['test/labels'])\n",
    "    level_two_df = pd.DataFrame.from_dict(level_two_dataset)\n",
    "\n",
    "swarm_rmsle_df = pd.DataFrame.from_dict(swarm_rmsle)"
   ]
  },
  {
   "cell_type": "markdown",
   "id": "cb6cb1b6",
   "metadata": {},
   "source": [
    "### 2.4. Swarm RMSLE distribution"
   ]
  },
  {
   "cell_type": "code",
   "execution_count": null,
   "id": "e7b3e112",
   "metadata": {},
   "outputs": [],
   "source": [
    "import matplotlib.pyplot as plt\n",
    "\n",
    "plt.title('Distribution of swarm RMSLE')\n",
    "plt.hist(swarm_rmsle_df['RMSLE'], color='black', bins=30)\n",
    "plt.ylabel('RMSLE')\n",
    "plt.xlabel('Swarm models (n)')\n",
    "plt.show()"
   ]
  },
  {
   "cell_type": "markdown",
   "id": "3830059a",
   "metadata": {},
   "source": [
    "### 2.5. Level II model cross-validation"
   ]
  },
  {
   "cell_type": "code",
   "execution_count": null,
   "id": "acc12770",
   "metadata": {},
   "outputs": [],
   "source": [
    "scores=cross_val_score(\n",
    "    HistGradientBoostingRegressor(loss='gamma'),\n",
    "    level_two_df.drop('label', axis=1),\n",
    "    level_two_df['label'],\n",
    "    scoring='neg_mean_squared_log_error',\n",
    "    n_jobs=-1,\n",
    "    cv=7\n",
    ")\n",
    "\n",
    "print(f'Cross-validation RMSLE: {np.mean(np.sqrt(-scores)):.4f} +/- {np.std(np.sqrt(-scores)):.4f}')"
   ]
  }
 ],
 "metadata": {
  "kernelspec": {
   "display_name": ".venv",
   "language": "python",
   "name": "python3"
  },
  "language_info": {
   "codemirror_mode": {
    "name": "ipython",
    "version": 3
   },
   "file_extension": ".py",
   "mimetype": "text/x-python",
   "name": "python",
   "nbconvert_exporter": "python",
   "pygments_lexer": "ipython3",
   "version": "3.10.17"
  }
 },
 "nbformat": 4,
 "nbformat_minor": 5
}
